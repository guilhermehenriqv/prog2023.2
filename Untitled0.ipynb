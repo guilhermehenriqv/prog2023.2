{
  "nbformat": 4,
  "nbformat_minor": 0,
  "metadata": {
    "colab": {
      "provenance": [],
      "authorship_tag": "ABX9TyM7/9WzLJBZtqi4fWqirNWX",
      "include_colab_link": true
    },
    "kernelspec": {
      "name": "python3",
      "display_name": "Python 3"
    },
    "language_info": {
      "name": "python"
    }
  },
  "cells": [
    {
      "cell_type": "markdown",
      "metadata": {
        "id": "view-in-github",
        "colab_type": "text"
      },
      "source": [
        "<a href=\"https://colab.research.google.com/github/guilhermehenriqv/prog2023.2/blob/main/Untitled0.ipynb\" target=\"_parent\"><img src=\"https://colab.research.google.com/assets/colab-badge.svg\" alt=\"Open In Colab\"/></a>"
      ]
    },
    {
      "cell_type": "code",
      "execution_count": null,
      "metadata": {
        "id": "puTLwDOY3JDM"
      },
      "outputs": [],
      "source": [
        "#Habituação\n",
        "habituado = input('Sim para Habituado e Não para Não habituado?')\n",
        "if habituado == 'Sim':\n",
        "  print(\"parabéns.\")\n",
        "else:\n",
        "  print(\"continuar habituação.\")\n",
        "\n",
        "print('animal habituado.')"
      ]
    },
    {
      "cell_type": "code",
      "source": [
        "distancia = 30\n",
        "aproximou=False\n",
        "if aproximou == True:\n",
        "  print(\"liberando 0.5ml\")\n",
        "else:\n",
        "  print(\"continuar experimento\")\n"
      ],
      "metadata": {
        "id": "TVCEf1164IVg"
      },
      "execution_count": null,
      "outputs": []
    },
    {
      "cell_type": "markdown",
      "source": [],
      "metadata": {
        "id": "drbpbwsE9bXw"
      }
    },
    {
      "cell_type": "code",
      "source": [
        "toques_na_barra = 20\n",
        "\n",
        "if toques_na_barra == 20:\n",
        "  print(\"Retornar experimento\")\n",
        "else:\n",
        "  print(\"continuar experimento\")\n"
      ],
      "metadata": {
        "id": "iWGx8hxO5uXc"
      },
      "execution_count": null,
      "outputs": []
    },
    {
      "cell_type": "code",
      "source": [],
      "metadata": {
        "id": "nucLrn_y6cXR"
      },
      "execution_count": null,
      "outputs": []
    },
    {
      "cell_type": "code",
      "source": [
        "som_1_emitido_e_toque_na_barra_esquerda = True\n",
        "\n",
        "if som_1_emitido_e_toque_na_barra_esquerda == True:\n",
        "  print(\"liberar 0,5ml de ração\")\n",
        "else:\n",
        "  print(\"Não liberar nada\")\n"
      ],
      "metadata": {
        "id": "0MjAL2ZT6evI"
      },
      "execution_count": null,
      "outputs": []
    },
    {
      "cell_type": "code",
      "source": [
        "numero_experimento=int(input(\"Quantas vezes o experimento foi realizado: \"))\n",
        "tempo=int(input(\"Em quanto tempo? Digite em minutos: \"))\n",
        "\n",
        "if numero_experimento > 49 and tempo > 29:\n",
        "    print(\"Experimento passou para próxima fase\")"
      ],
      "metadata": {
        "id": "Bc37-6J19VTq"
      },
      "execution_count": null,
      "outputs": []
    }
  ]
}